{
 "cells": [
  {
   "cell_type": "code",
   "execution_count": 26,
   "metadata": {},
   "outputs": [],
   "source": [
    "import os\n",
    "from glob import glob\n",
    "import numpy as np\n",
    "import matplotlib as mpl\n",
    "import matplotlib.pyplot as plt\n",
    "from nptdms import TdmsFile as TF\n",
    "import datetime\n",
    "from datetime import timedelta as td\n",
    "%matplotlib inline\n",
    "\n",
    "\n",
    "\n",
    "class MHDPlots(object):\n",
    "    def __init__(self, ):\n",
    "        self.samples = []\n",
    "        self.pathnames = []\n",
    "        self.imports = {}\n",
    "        self.data = {}\n",
    "        self.tracks = {}\n",
    "        \n",
    "        ##samples is a list of strings, the samples names\n",
    "        ##pathnames is the full pathnames to get to each tdms file (there maybe multiple tdms files associated to different samples)\n",
    "        ##imports is a dictionary, using the pathnames as the word and the imported tdms file as its definition\n",
    "        ##           this step is necessary as importing the data is the longest process, but pulling data to arrays is almost immediate\n",
    "        ##data is a dictionary, using the pathnames as the word and a 2D array with all data stored, useful for plotting\n",
    "        ##tracks is meant to track what data has already been pulled from the imported file, and track what position in the data array certain data are\n",
    "        ##           tracks uses channelnames as the word and an integer as its definition\n",
    "        \n",
    "        \n",
    "    def set_path(self, path):\n",
    "        samples = self.samples\n",
    "        pathnames = self.pathnames\n",
    "        for file in os.listdir(path):\n",
    "            samples = np.append(samples, str(file))\n",
    "        for sample in samples:\n",
    "            this = glob(path+\"\\\\\"+sample+\"\\\\*_together.tdms\")\n",
    "            pathnames = np.append(pathnames, this)\n",
    "        self.pathnames = pathnames    \n",
    "        self.samples = samples\n",
    "        return\n",
    "    \n",
    "        ##sets the path to the main folder with subfolders and tdms files in those subfolders\n",
    "        ##uses the names of folders as samples and filepaths as pathnames\n",
    "    \n",
    "    def importdata(self, string):\n",
    "        #Will import all data in the defined file path with substring input\n",
    "        pathnames = self.pathnames\n",
    "        imports = self.imports\n",
    "        for pathname in pathnames:\n",
    "            if string in pathname:\n",
    "                imports[pathname] = TF(pathname)\n",
    "        self.imports = imports\n",
    "        self.get_times()\n",
    "        return\n",
    "    \n",
    "        ##imports tdms files that contain the given string. for example: the molybdenum rod experiments had 9mm, 11mm, and 13mm runs\n",
    "        ##folder and file paths were organized as such\n",
    "        ##runs get_times(), makes it easier to stack arrays of data and line them up with time\n",
    "    \n",
    "    def get_times(self, ):\n",
    "        data = self.data\n",
    "        imports = self.imports\n",
    "        tracks = self.tracks\n",
    "        track = \"Time\"\n",
    "        self.get_data(track)\n",
    "        self.data = data\n",
    "        self.tracks = tracks\n",
    "        return\n",
    "        \n",
    "        ##Fills the data dictionary with initial arrays of time, to stack with other data in future\n",
    "    \n",
    "    def get_motor(self,):\n",
    "        motortrack = \"motor A\"\n",
    "        self.get_data(motortrack)\n",
    "        return\n",
    "    \n",
    "        ##Calls motor position from motor A for current set up\n",
    "        \n",
    "    def get_tc(self, ):\n",
    "        tctrack = \"T_Sample (Arith. Mean)\"\n",
    "        self.get_data(tctrack)\n",
    "        ##run get data with thermocouple data from the sample holder    \n",
    "        return\n",
    "    \n",
    "    def get_blackbody(self,):\n",
    "        tracks = self.tracks\n",
    "        data = self.data\n",
    "        \n",
    "        ct1 = \"Color Temp 2-3\"\n",
    "        ct2 = \"Color Temp 1-3\"\n",
    "        ct3 = \"Color Temp 1-2\"\n",
    "        ctavg = \"Avg Color Temp\"\n",
    "        self.get_data(ct1)\n",
    "        self.get_data(ct2)\n",
    "        self.get_data(ct3)\n",
    "        \n",
    "        for sample in data:\n",
    "            temp1 = data[sample][tracks[ct1]]\n",
    "            temp2 = data[sample][tracks[ct2]]\n",
    "            temp3 = data[sample][tracks[ct3]]\n",
    "            ctavg = np.mean(np.vstack((temp1,temp2,temp3)),0)\n",
    "            self.store_data(sample, ctavg, \"Color Temp Avg.\")\n",
    "        return\n",
    "        ##gets all two color temperatures and stores them, then calculates the averages and stores that as well\n",
    "    \n",
    "    def get_custom(self, channelname):\n",
    "        tctrack = channelname\n",
    "        self.get_data(tctrack)\n",
    "        return\n",
    "        ##allows you to get data from a custom channel, given an input channel name\n",
    "    \n",
    "    \n",
    "    def get_data(self, track):\n",
    "        data = self.data\n",
    "        imports = self.imports\n",
    "        tracks = self.tracks\n",
    "        \n",
    "        if track not in self.tracks:        \n",
    "            for string in data:\n",
    "                file = imports[string]\n",
    "                groups = file.groups()\n",
    "                for group in groups:\n",
    "                    channels = file.group_channels(group)\n",
    "                    for channel in channels:\n",
    "                        if track == channel.channel:\n",
    "                            subdata = channel.data\n",
    "                            self.store_data(string, subdata)\n",
    "                tracks[track] = len(data[string])-1\n",
    "        else:\n",
    "            print(\"Error: trying to store duplicate data\")\n",
    "            \n",
    "        self.tracks = tracks\n",
    "        return\n",
    "        \n",
    "        ##searches all groups for a channel with the channelname\n",
    "        ##gets data from this channel, runs store_data() to update the respective data array\n",
    "    \n",
    "    def store_data(self, string, array):\n",
    "        data = self.data\n",
    "        \n",
    "        length = len(np.transpose(data[string]))\n",
    "        if len(array) != length:\n",
    "            array = self.resize(array, length)\n",
    "        data[string] = np.vstack((data[string], array))\n",
    "        \n",
    "        self.data = data\n",
    "        return\n",
    "        \n",
    "        ##as implied, stores data. stacks the array with time, updates the data dictionary, and stores data position in tracks\n",
    "        ##the else statement prevents the data arrays from storing duplicate data\n",
    "    \n",
    "    def align(self, channel=\"motor A\"):\n",
    "        data = self.data\n",
    "        tracks = self.tracks\n",
    "        track = \"Relative Time\"\n",
    "        if track not in tracks:\n",
    "            for sample in data:\n",
    "                time = data[sample][tracks[\"Time\"]]\n",
    "                motor = data[sample][tracks[channel]]\n",
    "                start = np.where(motor[1:]-motor[:-1]>.2)\n",
    "                start = start[0][1]\n",
    "                timerel = np.zeros_like(time)\n",
    "                for i, val in enumerate(time):\n",
    "                    timerel[i] = (time[i]-time[start]).total_seconds()\n",
    "                self.store_data(sample, timerel, \"Relative Time\")\n",
    "        return\n",
    "        ##Creates a relative time array, for comparing different samples, and aligns the start time of burning the sample\n",
    "        ##    with the motors position\n",
    "        ##In future experiments, the align function might be used with other channels, and is anticipated to be made more general\n",
    "    \n",
    "    \n",
    "    def plot_samples(self, channel, sample=\"all\"):\n",
    "        data = self.data\n",
    "        tracks = self.tracks\n",
    "        axes = plt.gca()\n",
    "        val = False\n",
    "        if channelname not in tracks:\n",
    "            print(\"Data has not been called. Please use get_custom('channelname')\")\n",
    "        else:\n",
    "            if sample == \"all\":\n",
    "                for string in data:\n",
    "                    plt.plot(data[string][tracks[\"Time\"]], data[string][tracks[channelname]], label = sample)\n",
    "            \n",
    "            else:\n",
    "                for string in data:\n",
    "                    if sample in string:\n",
    "                        plt.plot(data[string][tracks[\"Time\"]], data[string][tracks[channelname]], label = sample)\n",
    "                        val = True\n",
    "        if val == False:\n",
    "            print(\"Sample data has not been imported. Please use importdata(filename substring)\")\n",
    "        \n",
    "        plt.legend(bbox_to_anchor=(1.05, 1), loc=2, borderaxespad=0.)\n",
    "        return\n",
    "    \n",
    "    def plot_channels(self, channel, sample):\n",
    "        data = self.data\n",
    "        tracks = self.tracks\n",
    "        axes = plt.gca()\n",
    "        if channelname not in tracks:\n",
    "            print(\"Data has not been called. Please use get_custom('channelname')\")\n",
    "        else:\n",
    "            for string in data:\n",
    "                plt.plot(data[string][tracks[\"Time\"]], data[string][tracks[channelname]], label = sample)\n",
    "            else:\n",
    "                for string in data:\n",
    "                    if sample in string:\n",
    "                        plt.plot(data[string][tracks[\"Time\"]], data[string][tracks[channelname]], label = sample)\n",
    "        if val == False:\n",
    "            print(\"Sample data has not been imported. Please use importdata(filename substring)\")\n",
    "        \n",
    "        plt.legend(bbox_to_anchor=(1.05, 1), loc=2, borderaxespad=0.)\n",
    "        return\n",
    "\n",
    "   \n",
    "    def resize(self, arr, length):\n",
    "        if len(arr)>length:\n",
    "            arr = arr[1:]\n",
    "        elif len(arr)<length:\n",
    "            arr = np.append(arr, 0)\n",
    "        else:\n",
    "            print(\"error\")\n",
    "        return arr   "
   ]
  },
  {
   "cell_type": "code",
   "execution_count": 27,
   "metadata": {},
   "outputs": [],
   "source": [
    "a = MHDPlots()\n",
    "a.set_path(\"D:\\\\Data\\\\MolyRod\")"
   ]
  },
  {
   "cell_type": "code",
   "execution_count": 28,
   "metadata": {},
   "outputs": [],
   "source": [
    "a.importdata(\"13mm_together.tdms\")"
   ]
  },
  {
   "cell_type": "code",
   "execution_count": 29,
   "metadata": {},
   "outputs": [],
   "source": [
    "a.get_motor()"
   ]
  },
  {
   "cell_type": "code",
   "execution_count": 5,
   "metadata": {},
   "outputs": [
    {
     "name": "stdout",
     "output_type": "stream",
     "text": [
      "Data has not been called. Please use get_custom('channelname')\n"
     ]
    }
   ],
   "source": [
    "a.plot(\"Color Temp 1-2\", \"all\")"
   ]
  },
  {
   "cell_type": "code",
   "execution_count": 7,
   "metadata": {},
   "outputs": [],
   "source": [
    "a.get_custom(\"Color Temp 1-2\")"
   ]
  },
  {
   "cell_type": "code",
   "execution_count": 9,
   "metadata": {},
   "outputs": [
    {
     "data": {
      "image/png": "[encoded data removed]",
      "text/plain": [
       "<matplotlib.figure.Figure at 0x174c8d68>"
      ]
     },
     "metadata": {},
     "output_type": "display_data"
    }
   ],
   "source": [
    "a.plot(\"Color Temp 1-2\", \"all\")"
   ]
  },
  {
   "cell_type": "code",
   "execution_count": 34,
   "metadata": {},
   "outputs": [
    {
     "ename": "AttributeError",
     "evalue": "'float' object has no attribute 'dtype'",
     "output_type": "error",
     "traceback": [
      "\u001b[1;31m---------------------------------------------------------------------------\u001b[0m",
      "\u001b[1;31mAttributeError\u001b[0m                            Traceback (most recent call last)",
      "\u001b[1;32m<ipython-input-34-6c93587775ea>\u001b[0m in \u001b[0;36m<module>\u001b[1;34m()\u001b[0m\n\u001b[1;32m----> 1\u001b[1;33m \u001b[0ma\u001b[0m\u001b[1;33m.\u001b[0m\u001b[0mget_blackbody\u001b[0m\u001b[1;33m(\u001b[0m\u001b[1;33m)\u001b[0m\u001b[1;33m\u001b[0m\u001b[0m\n\u001b[0m",
      "\u001b[1;32m<ipython-input-29-265d582df620>\u001b[0m in \u001b[0;36mget_blackbody\u001b[1;34m(self)\u001b[0m\n\u001b[0;32m    132\u001b[0m             \u001b[0mtemp2\u001b[0m \u001b[1;33m=\u001b[0m \u001b[0mdata\u001b[0m\u001b[1;33m[\u001b[0m\u001b[0msample\u001b[0m\u001b[1;33m]\u001b[0m\u001b[1;33m[\u001b[0m\u001b[0mtracks\u001b[0m\u001b[1;33m[\u001b[0m\u001b[0mct2\u001b[0m\u001b[1;33m]\u001b[0m\u001b[1;33m]\u001b[0m\u001b[1;33m\u001b[0m\u001b[0m\n\u001b[0;32m    133\u001b[0m             \u001b[0mtemp3\u001b[0m \u001b[1;33m=\u001b[0m \u001b[0mdata\u001b[0m\u001b[1;33m[\u001b[0m\u001b[0msample\u001b[0m\u001b[1;33m]\u001b[0m\u001b[1;33m[\u001b[0m\u001b[0mtracks\u001b[0m\u001b[1;33m[\u001b[0m\u001b[0mct3\u001b[0m\u001b[1;33m]\u001b[0m\u001b[1;33m]\u001b[0m\u001b[1;33m\u001b[0m\u001b[0m\n\u001b[1;32m--> 134\u001b[1;33m             \u001b[0mavgtemp\u001b[0m \u001b[1;33m=\u001b[0m \u001b[0mnp\u001b[0m\u001b[1;33m.\u001b[0m\u001b[0maverage\u001b[0m\u001b[1;33m(\u001b[0m\u001b[0mnp\u001b[0m\u001b[1;33m.\u001b[0m\u001b[0mvstack\u001b[0m\u001b[1;33m(\u001b[0m\u001b[1;33m(\u001b[0m\u001b[0mtemp1\u001b[0m\u001b[1;33m,\u001b[0m\u001b[0mtemp2\u001b[0m\u001b[1;33m,\u001b[0m\u001b[0mtemp3\u001b[0m\u001b[1;33m)\u001b[0m\u001b[1;33m)\u001b[0m\u001b[1;33m)\u001b[0m\u001b[1;33m\u001b[0m\u001b[0m\n\u001b[0m\u001b[0;32m    135\u001b[0m             \u001b[0mself\u001b[0m\u001b[1;33m.\u001b[0m\u001b[0mstore_data\u001b[0m\u001b[1;33m(\u001b[0m\u001b[0mavgtemp\u001b[0m\u001b[1;33m,\u001b[0m \u001b[0msample\u001b[0m\u001b[1;33m,\u001b[0m \u001b[0mavgtemp\u001b[0m\u001b[1;33m,\u001b[0m \u001b[0mctavg\u001b[0m\u001b[1;33m)\u001b[0m\u001b[1;33m\u001b[0m\u001b[0m\n\u001b[0;32m    136\u001b[0m         \u001b[1;32mreturn\u001b[0m\u001b[1;33m\u001b[0m\u001b[0m\n",
      "\u001b[1;32mC:\\ProgramData\\Anaconda3\\lib\\site-packages\\numpy\\lib\\function_base.py\u001b[0m in \u001b[0;36maverage\u001b[1;34m(a, axis, weights, returned)\u001b[0m\n\u001b[0;32m   1109\u001b[0m     \u001b[1;32mif\u001b[0m \u001b[0mweights\u001b[0m \u001b[1;32mis\u001b[0m \u001b[1;32mNone\u001b[0m\u001b[1;33m:\u001b[0m\u001b[1;33m\u001b[0m\u001b[0m\n\u001b[0;32m   1110\u001b[0m         \u001b[0mavg\u001b[0m \u001b[1;33m=\u001b[0m \u001b[0ma\u001b[0m\u001b[1;33m.\u001b[0m\u001b[0mmean\u001b[0m\u001b[1;33m(\u001b[0m\u001b[0maxis\u001b[0m\u001b[1;33m)\u001b[0m\u001b[1;33m\u001b[0m\u001b[0m\n\u001b[1;32m-> 1111\u001b[1;33m         \u001b[0mscl\u001b[0m \u001b[1;33m=\u001b[0m \u001b[0mavg\u001b[0m\u001b[1;33m.\u001b[0m\u001b[0mdtype\u001b[0m\u001b[1;33m.\u001b[0m\u001b[0mtype\u001b[0m\u001b[1;33m(\u001b[0m\u001b[0ma\u001b[0m\u001b[1;33m.\u001b[0m\u001b[0msize\u001b[0m\u001b[1;33m/\u001b[0m\u001b[0mavg\u001b[0m\u001b[1;33m.\u001b[0m\u001b[0msize\u001b[0m\u001b[1;33m)\u001b[0m\u001b[1;33m\u001b[0m\u001b[0m\n\u001b[0m\u001b[0;32m   1112\u001b[0m     \u001b[1;32melse\u001b[0m\u001b[1;33m:\u001b[0m\u001b[1;33m\u001b[0m\u001b[0m\n\u001b[0;32m   1113\u001b[0m         \u001b[0mwgt\u001b[0m \u001b[1;33m=\u001b[0m \u001b[0mnp\u001b[0m\u001b[1;33m.\u001b[0m\u001b[0masanyarray\u001b[0m\u001b[1;33m(\u001b[0m\u001b[0mweights\u001b[0m\u001b[1;33m)\u001b[0m\u001b[1;33m\u001b[0m\u001b[0m\n",
      "\u001b[1;31mAttributeError\u001b[0m: 'float' object has no attribute 'dtype'"
     ]
    }
   ],
   "source": [
    "a.get_blackbody()"
   ]
  },
  {
   "cell_type": "code",
   "execution_count": 68,
   "metadata": {},
   "outputs": [
    {
     "name": "stdout",
     "output_type": "stream",
     "text": [
      "9\n",
      "9\n",
      "9\n",
      "9\n",
      "10\n",
      "10\n",
      "10\n",
      "10\n",
      "13\n",
      "13\n",
      "13\n",
      "13\n",
      "13\n",
      "13\n",
      "13\n"
     ]
    }
   ],
   "source": [
    "\n",
    "data = {}\n",
    "data[\"this\"]= 9\n",
    "data[\"that\"] = 10\n",
    "data['thisone'] = 13\n",
    "for string in data:\n",
    "    for sample in string:\n",
    "        print (data[string])\n"
   ]
  },
  {
   "cell_type": "code",
   "execution_count": 19,
   "metadata": {},
   "outputs": [],
   "source": [
    "dictionary = a.data"
   ]
  },
  {
   "cell_type": "code",
   "execution_count": 25,
   "metadata": {},
   "outputs": [
    {
     "data": {
      "text/plain": [
       "array([nan, nan, nan, ..., -2699.583823525356, -2669.5988384567468,\n",
       "       -2855.809704437397], dtype=object)"
      ]
     },
     "execution_count": 25,
     "metadata": {},
     "output_type": "execute_result"
    }
   ],
   "source": [
    "dictionary[string][a.tracks['Color Temp 1-2']]"
   ]
  },
  {
   "cell_type": "code",
   "execution_count": null,
   "metadata": {
    "collapsed": true
   },
   "outputs": [],
   "source": []
  }
 ],
 "metadata": {
  "kernelspec": {
   "display_name": "Python 3",
   "language": "python",
   "name": "python3"
  },
  "language_info": {
   "codemirror_mode": {
    "name": "ipython",
    "version": 3
   },
   "file_extension": ".py",
   "mimetype": "text/x-python",
   "name": "python",
   "nbconvert_exporter": "python",
   "pygments_lexer": "ipython3",
   "version": "3.6.3"
  }
 },
 "nbformat": 4,
 "nbformat_minor": 2
}
