{
 "cells": [
  {
   "cell_type": "code",
   "execution_count": 17,
   "metadata": {},
   "outputs": [],
   "source": [
    "import os\n",
    "from glob import glob\n",
    "import numpy as np\n",
    "import matplotlib as mpl\n",
    "import matplotlib.pyplot as plt\n",
    "from nptdms import TdmsFile as TF\n",
    "import datetime\n",
    "from datetime import timedelta as td\n",
    "%matplotlib inline\n",
    "\n",
    "\n",
    "\n",
    "class MHDPlots(object):\n",
    "    def __init__(self, ):\n",
    "        self.samples = []\n",
    "        self.pathnames = []\n",
    "        self.filenames = []\n",
    "        self.imports = {}\n",
    "        self.data = {}\n",
    "    \n",
    "    def set_path(self, path):\n",
    "        samples = self.samples\n",
    "        pathnames = self.pathnames\n",
    "        for file in os.listdir(path):\n",
    "            samples = np.append(samples, str(file))\n",
    "        for sample in samples:\n",
    "            this = glob(path+\"\\\\\"+sample+\"\\\\*_together.tdms\")\n",
    "            pathnames = np.append(pathnames, this)\n",
    "        self.pathnames = pathnames    \n",
    "        self.samples = samples\n",
    "        return\n",
    "    \n",
    "    def importdata(self, string):\n",
    "        #Will import all data in the defined file path with substring input\n",
    "        pathnames = self.pathnames\n",
    "        imports = self.imports\n",
    "        for pathname in pathnames:\n",
    "            if string in pathname:\n",
    "                imports[pathname] = TF(pathname)\n",
    "        self.imports = imports\n",
    "        self.get_times()\n",
    "        return\n",
    "    \n",
    "    def get_times(self, ):\n",
    "        #Fills the data dictionary with initial arrays of time, to stack with other data in future\n",
    "        data = self.data\n",
    "        imports = self.imports\n",
    "        for string in imports:\n",
    "            file = imports[string]\n",
    "            data[string] = file.object(\"Global\", \"Time\").data\n",
    "        self.data = data\n",
    "        return\n",
    "    \n",
    "    def get_data(self, channelname ):\n",
    "        #finds data corresponding to a channel name, and stacks with respective time arrays\n",
    "        data = self.data\n",
    "        imports = self.imports\n",
    "        for string in self.imports:\n",
    "            file = imports[string]\n",
    "            groups = file.groups()\n",
    "            for group in groups:\n",
    "                channels = file.group_channels(group)\n",
    "                for channel in channels:\n",
    "                    if channelname == channel.channel:\n",
    "                        subdata = channel.data\n",
    "            length = len(np.transpose(data[string]))\n",
    "            if len(subdata) != length:\n",
    "                subdata = self.resize(subdata, length)\n",
    "            data[string] = np.vstack((data[string], subdata))\n",
    "        self.data = data\n",
    "        return subdata, len(data[string])\n",
    "    \n",
    "    def get_blackbody(self,):\n",
    "        \n",
    "        data, pos = self.get_data( )\n",
    "        return\n",
    "    \n",
    "    def resize(self, arr, length):\n",
    "        if len(arr)>length:\n",
    "            arr = arr[1:]\n",
    "        elif len(arr)<length:\n",
    "            arr = np.append(arr, 0)\n",
    "        else:\n",
    "            print(\"error\")\n",
    "        return arr\n",
    "        \n",
    "    "
   ]
  },
  {
   "cell_type": "code",
   "execution_count": 18,
   "metadata": {},
   "outputs": [],
   "source": [
    "a = MHDPlots()\n",
    "a.set_path(\"D:\\\\Data\\\\MolyRod\")"
   ]
  },
  {
   "cell_type": "code",
   "execution_count": 19,
   "metadata": {},
   "outputs": [],
   "source": [
    "a.importdata(\"MolyA\\\\13mm_together.tdms\")"
   ]
  },
  {
   "cell_type": "code",
   "execution_count": 20,
   "metadata": {},
   "outputs": [],
   "source": [
    "data = a.get_data(\"T_Sample (Arith. Mean)\")"
   ]
  },
  {
   "cell_type": "code",
   "execution_count": 21,
   "metadata": {},
   "outputs": [
    {
     "data": {
      "image/png": "[encoded data removed]",
      "text/plain": [
       "<matplotlib.figure.Figure at 0x1585e2e8>"
      ]
     },
     "metadata": {},
     "output_type": "display_data"
    }
   ],
   "source": [
    "for string in data:\n",
    "    plt.plot(data[string][0],data[string][1])"
   ]
  },
  {
   "cell_type": "code",
   "execution_count": 14,
   "metadata": {},
   "outputs": [
    {
     "data": {
      "text/plain": [
       "[<matplotlib.lines.Line2D at 0x1af8ce390>]"
      ]
     },
     "execution_count": 14,
     "metadata": {},
     "output_type": "execute_result"
    },
    {
     "data": {
      "image/png": "[encoded data removed]",
      "text/plain": [
       "<matplotlib.figure.Figure at 0x1aae9e7b8>"
      ]
     },
     "metadata": {},
     "output_type": "display_data"
    }
   ],
   "source": [
    "plt.plot(stuff[0], stuff[1])"
   ]
  },
  {
   "cell_type": "code",
   "execution_count": 169,
   "metadata": {},
   "outputs": [
    {
     "data": {
      "text/plain": [
       "3"
      ]
     },
     "execution_count": 169,
     "metadata": {},
     "output_type": "execute_result"
    }
   ],
   "source": [
    "len(np.transpose(array))"
   ]
  },
  {
   "cell_type": "code",
   "execution_count": 170,
   "metadata": {},
   "outputs": [],
   "source": [
    "array2 = [4,5,6,7]\n",
    "if len(np.transpose(array))!=len(array2):\n",
    "    array, array2 = resize(array, array2)\n",
    "array = np.vstack((array,array2))\n"
   ]
  },
  {
   "cell_type": "code",
   "execution_count": 171,
   "metadata": {},
   "outputs": [
    {
     "data": {
      "text/plain": [
       "array([[1, 2, 3],\n",
       "       [4, 5, 6],\n",
       "       [5, 6, 7]])"
      ]
     },
     "execution_count": 171,
     "metadata": {},
     "output_type": "execute_result"
    }
   ],
   "source": [
    "array"
   ]
  },
  {
   "cell_type": "code",
   "execution_count": null,
   "metadata": {
    "collapsed": true
   },
   "outputs": [],
   "source": []
  }
 ],
 "metadata": {
  "kernelspec": {
   "display_name": "Python 3",
   "language": "python",
   "name": "python3"
  },
  "language_info": {
   "codemirror_mode": {
    "name": "ipython",
    "version": 3
   },
   "file_extension": ".py",
   "mimetype": "text/x-python",
   "name": "python",
   "nbconvert_exporter": "python",
   "pygments_lexer": "ipython3",
   "version": "3.6.3"
  }
 },
 "nbformat": 4,
 "nbformat_minor": 2
}
