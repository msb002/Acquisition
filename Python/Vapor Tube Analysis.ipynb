{
 "cells": [
  {
   "cell_type": "code",
   "execution_count": 1,
   "metadata": {},
   "outputs": [],
   "source": [
    "import os\n",
    "import numpy as np\n",
    "import matplotlib as mpl\n",
    "import matplotlib.pyplot as plt\n",
    "import datetime\n",
    "from datetime import timedelta as td\n",
    "import time\n",
    "import TDMS_MHD as MHD\n",
    "import pandas as pd\n",
    "%matplotlib inline\n",
    "\n",
    "\n",
    "class VaporTubes(MHD.TDMS_pd):\n",
    "    def __init__(self, ):\n",
    "        MHD.TDMS_pd.__init__(self)   \n",
    "    \n",
    "\n",
    "    \n",
    "    \n"
   ]
  },
  {
   "cell_type": "code",
   "execution_count": 2,
   "metadata": {},
   "outputs": [],
   "source": [
    "a = VaporTubes()\n",
    "a.set_pathnames(\"E:\\\\Alkali metals\\\\2018-02-13\", \"*.tdms\")"
   ]
  },
  {
   "cell_type": "code",
   "execution_count": 3,
   "metadata": {},
   "outputs": [
    {
     "name": "stdout",
     "output_type": "stream",
     "text": [
      "['E:\\\\Alkali metals\\\\2018-02-13\\\\Sodium\\\\Sodium.tdms'\n",
      " 'E:\\\\Alkali metals\\\\2018-02-13\\\\Sodium\\\\Sodium_100Hz.tdms']\n"
     ]
    }
   ],
   "source": [
    "print(a.pathnames)"
   ]
  },
  {
   "cell_type": "code",
   "execution_count": null,
   "metadata": {
    "collapsed": true
   },
   "outputs": [],
   "source": []
  },
  {
   "cell_type": "code",
   "execution_count": 4,
   "metadata": {},
   "outputs": [],
   "source": [
    "a.import_data(a.pathnames[0])\n",
    "file1 = a.imports[a.pathnames[0]]\n",
    "wl = file1.object(\"Wavelength array\",\"Wavelength_1\").data"
   ]
  },
  {
   "cell_type": "code",
   "execution_count": 5,
   "metadata": {},
   "outputs": [],
   "source": [
    "a.import_data(a.pathnames[0])\n",
    "file1 = a.imports[a.pathnames[0]]\n",
    "#wl = file1.object(\"Wavelength array\",\"Wavelength_1\").data\n",
    "a.get_data_pdframe(file1,'Raw_Capture_1')\n",
    "a.get_data_pdframe(file1,'Raw_Capture_2')"
   ]
  },
  {
   "cell_type": "code",
   "execution_count": 6,
   "metadata": {},
   "outputs": [
    {
     "data": {
      "text/plain": [
       "['Common', 'Wavelength array', 'Raw_Capture_1', 'Raw_Capture_2', 'Averages']"
      ]
     },
     "execution_count": 6,
     "metadata": {},
     "output_type": "execute_result"
    }
   ],
   "source": [
    "file1.groups()"
   ]
  },
  {
   "cell_type": "code",
   "execution_count": 7,
   "metadata": {},
   "outputs": [],
   "source": [
    "mean1 = a.datapdframes['Raw_Capture_1'].mean(axis = 1)\n",
    "mean2 = a.datapdframes['Raw_Capture_2'].mean(axis = 1)\n",
    "T = mean1/mean2"
   ]
  },
  {
   "cell_type": "code",
   "execution_count": 8,
   "metadata": {},
   "outputs": [
    {
     "data": {
      "text/plain": [
       "1024"
      ]
     },
     "execution_count": 8,
     "metadata": {},
     "output_type": "execute_result"
    }
   ],
   "source": [
    "len(a.datapdframes['Raw_Capture_1'])"
   ]
  },
  {
   "cell_type": "code",
   "execution_count": 9,
   "metadata": {},
   "outputs": [
    {
     "data": {
      "text/plain": [
       "[<matplotlib.lines.Line2D at 0xed10320>]"
      ]
     },
     "execution_count": 9,
     "metadata": {},
     "output_type": "execute_result"
    },
    {
     "data": {
      "image/png": "[encoded data removed]",
      "text/plain": [
       "<matplotlib.figure.Figure at 0x732f588>"
      ]
     },
     "metadata": {},
     "output_type": "display_data"
    }
   ],
   "source": [
    "plt.plot(wl,T)\n"
   ]
  }
 ],
 "metadata": {
  "kernelspec": {
   "display_name": "Python 3",
   "language": "python",
   "name": "python3"
  },
  "language_info": {
   "codemirror_mode": {
    "name": "ipython",
    "version": 3
   },
   "file_extension": ".py",
   "mimetype": "text/x-python",
   "name": "python",
   "nbconvert_exporter": "python",
   "pygments_lexer": "ipython3",
   "version": "3.6.3"
  }
 },
 "nbformat": 4,
 "nbformat_minor": 2
}
