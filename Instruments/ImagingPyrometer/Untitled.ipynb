{
 "cells": [
  {
   "cell_type": "code",
   "execution_count": 1,
   "metadata": {},
   "outputs": [
    {
     "name": "stderr",
     "output_type": "stream",
     "text": [
      "C:\\ProgramData\\Anaconda3\\lib\\site-packages\\ipykernel_launcher.py:12: DeprecationWarning:\n",
      "\n",
      "The module was found, but not in a referenced namespace.\n",
      "Implicit loading is deprecated. Please use clr.AddReference('System.Collections').\n",
      "\n"
     ]
    }
   ],
   "source": [
    "import clr\n",
    "import sys\n",
    "import os\n",
    "import mhdpy\n",
    "import time\n",
    "import json\n",
    "# Import System.IO for saving and opening files\n",
    "from System.IO import *\n",
    "\n",
    "# Import c compatible List and String\n",
    "from System import String\n",
    "from System.Collections.Generic import List\n",
    "\n",
    "# Add needed dll references\n",
    "sys.path.append(os.environ['LIGHTFIELD_ROOT'])\n",
    "sys.path.append(os.environ['LIGHTFIELD_ROOT']+\"\\\\AddInViews\")\n",
    "clr.AddReference('PrincetonInstruments.LightFieldViewV5')\n",
    "clr.AddReference('PrincetonInstruments.LightField.AutomationV5')\n",
    "clr.AddReference('PrincetonInstruments.LightFieldAddInSupportServices')\n",
    "\n",
    "\n",
    "# PI imports\n",
    "from PrincetonInstruments.LightField.Automation import Automation\n",
    "from PrincetonInstruments.LightField.AddIns import ExperimentSettings\n",
    "import win32com.client  # Python ActiveX Client\n",
    "import threading\n",
    "import glob"
   ]
  },
  {
   "cell_type": "code",
   "execution_count": 2,
   "metadata": {},
   "outputs": [],
   "source": [
    "\n",
    "class LightfieldApplication():\n",
    "    \n",
    "    def __init__(self):         \n",
    "        self.auto = Automation(True, List[String]())\n",
    "        self.experiment = self.auto.LightFieldApplication.Experiment\n",
    "\n",
    "    def get_experiment(self):\n",
    "        return self.experiment\n",
    "    \n",
    "    def close(self):\n",
    "        self.auto.Dispose()\n",
    "\n",
    "\n",
    "def add_available_devices():\n",
    "    # Add first available device and return\n",
    "    for device in experiment.AvailableDevices:\n",
    "        print(\"\\n\\tAdding Device...\")\n",
    "        experiment.Add(device)\n",
    "        return device\n",
    "    \n",
    "def save_file(filename):    \n",
    "    # Set the base file name\n",
    "    experiment.SetValue(\n",
    "        ExperimentSettings.FileNameGenerationBaseFileName,\n",
    "        Path.GetFileName(filename))\n",
    "    \n",
    "    # Option to Increment, set to false will not increment\n",
    "    experiment.SetValue(\n",
    "        ExperimentSettings.FileNameGenerationAttachIncrement,\n",
    "        False)\n",
    "\n",
    "    # Option to add date\n",
    "    experiment.SetValue(\n",
    "        ExperimentSettings.FileNameGenerationAttachDate,\n",
    "        True)\n",
    "\n",
    "    # Option to add time\n",
    "    experiment.SetValue(\n",
    "        ExperimentSettings.FileNameGenerationAttachTime,\n",
    "        True)\n",
    "\n",
    "\t\t\n",
    "\t\t\n",
    "\t\t\n",
    "def get_paths(exp):\n",
    "    LabVIEW = win32com.client.Dispatch(\"Labview.Application\")\n",
    "    filepath = mhdpy.daq.gen_filepath(LabVIEW , exp.Name,'', DAQmx = False, Logfile= True)\n",
    "    folder = os.path.split(filepath)[0]\n",
    "    filename = os.path.split(filepath)[1]\n",
    "    return [folder,filename]\n",
    "\t\n",
    "\t"
   ]
  },
  {
   "cell_type": "code",
   "execution_count": 3,
   "metadata": {
    "scrolled": true
   },
   "outputs": [],
   "source": [
    "\n",
    "app1 = LightfieldApplication()\n",
    "exp1 = app1.get_experiment()\n",
    "exp1.Load('TransmCam')\n",
    "fs = get_paths(exp1)\n",
    "exp1.SetValue(ExperimentSettings.FileNameGenerationDirectory,fs[0])\n",
    "exp1.SetValue(ExperimentSettings.FileNameGenerationBaseFileName,fs[1])\n",
    "exp1.SetValue(ExperimentSettings.FileNameGenerationAttachDate,True)\n",
    "exp1.SetValue(ExperimentSettings.FileNameGenerationAttachTime,True)\n",
    "\n",
    "\n",
    "app2 = LightfieldApplication()\n",
    "exp2 = app2.get_experiment()\n",
    "exp2.Load('ReflCam')\n",
    "fs = get_paths(exp2)\n",
    "exp2.SetValue(ExperimentSettings.FileNameGenerationDirectory,fs[0])\n",
    "exp2.SetValue(ExperimentSettings.FileNameGenerationBaseFileName,fs[1])\n",
    "exp2.SetValue(ExperimentSettings.FileNameGenerationAttachDate,True)\n",
    "exp2.SetValue(ExperimentSettings.FileNameGenerationAttachTime,True)\n",
    "\n",
    "\n"
   ]
  },
  {
   "cell_type": "code",
   "execution_count": 10,
   "metadata": {},
   "outputs": [],
   "source": [
    "i=0\n",
    "#filestr = \"00nm-00nm\"\n",
    "#exp1.SetValue(ExperimentSettings.FileNameGenerationBaseFileName,get_paths(exp1)[1])\n",
    "#time.sleep(1)\n",
    "#exp2.SetValue(ExperimentSettings.FileNameGenerationBaseFileName,get_paths(exp2)[1])\n",
    "while i<50:\n",
    "    exp1.Acquire()\n",
    "    exp2.Acquire()\n",
    "    time.sleep(1)\n",
    "    i+=1\n",
    "\n"
   ]
  },
  {
   "cell_type": "code",
   "execution_count": 11,
   "metadata": {},
   "outputs": [],
   "source": [
    "app1.close()\n",
    "app2.close()"
   ]
  },
  {
   "cell_type": "code",
   "execution_count": 7,
   "metadata": {},
   "outputs": [
    {
     "ename": "RemotingException",
     "evalue": "Failed to connect to an IPC Port: The system cannot find the file specified.\r\n \n\r\nServer stack trace: \r\n   at System.Runtime.Remoting.Channels.Ipc.IpcPort.Connect(String portName, Boolean secure, TokenImpersonationLevel impersonationLevel, Int32 timeout)\r\n   at System.Runtime.Remoting.Channels.Ipc.ConnectionCache.GetConnection(String portName, Boolean secure, TokenImpersonationLevel level, Int32 timeout)\r\n   at System.Runtime.Remoting.Channels.Ipc.IpcClientTransportSink.ProcessMessage(IMessage msg, ITransportHeaders requestHeaders, Stream requestStream, ITransportHeaders& responseHeaders, Stream& responseStream)\r\n   at System.Runtime.Remoting.Channels.BinaryClientFormatterSink.SyncProcessMessage(IMessage msg)\r\n\r\nException rethrown at [0]: \r\n   at System.Runtime.Remoting.Proxies.RealProxy.HandleReturnMessage(IMessage reqMsg, IMessage retMsg)\r\n   at System.Runtime.Remoting.Proxies.RealProxy.PrivateInvoke(MessageData& msgData, Int32 type)\r\n   at PrincetonInstruments.LightField.AddIns.Contracts.IExperimentContract.get_Name()",
     "output_type": "error",
     "traceback": [
      "\u001b[1;31m---------------------------------------------------------------------------\u001b[0m",
      "\u001b[1;31mRemotingException\u001b[0m                         Traceback (most recent call last)",
      "\u001b[1;32m<ipython-input-7-3f38a42cb21c>\u001b[0m in \u001b[0;36m<module>\u001b[1;34m()\u001b[0m\n\u001b[1;32m----> 1\u001b[1;33m \u001b[0mfol\u001b[0m\u001b[1;33m,\u001b[0m \u001b[0mfil\u001b[0m \u001b[1;33m=\u001b[0m \u001b[0mget_paths\u001b[0m\u001b[1;33m(\u001b[0m\u001b[0mexp1\u001b[0m\u001b[1;33m)\u001b[0m\u001b[1;33m\u001b[0m\u001b[0m\n\u001b[0m\u001b[0;32m      2\u001b[0m \u001b[0mexp1\u001b[0m\u001b[1;33m.\u001b[0m\u001b[0mSetValue\u001b[0m\u001b[1;33m(\u001b[0m\u001b[0mExperimentSettings\u001b[0m\u001b[1;33m.\u001b[0m\u001b[0mFileNameGenerationDirectory\u001b[0m\u001b[1;33m,\u001b[0m\u001b[0mfol\u001b[0m\u001b[1;33m)\u001b[0m\u001b[1;33m\u001b[0m\u001b[0m\n\u001b[0;32m      3\u001b[0m \u001b[0mexp1\u001b[0m\u001b[1;33m.\u001b[0m\u001b[0mSetValue\u001b[0m\u001b[1;33m(\u001b[0m\u001b[0mExperimentSettings\u001b[0m\u001b[1;33m.\u001b[0m\u001b[0mFileNameGenerationBaseFileName\u001b[0m\u001b[1;33m,\u001b[0m \u001b[0mfil\u001b[0m\u001b[1;33m)\u001b[0m\u001b[1;33m\u001b[0m\u001b[0m\n",
      "\u001b[1;32m<ipython-input-2-fec1dd52b345>\u001b[0m in \u001b[0;36mget_paths\u001b[1;34m(exp)\u001b[0m\n\u001b[0;32m     46\u001b[0m \u001b[1;32mdef\u001b[0m \u001b[0mget_paths\u001b[0m\u001b[1;33m(\u001b[0m\u001b[0mexp\u001b[0m\u001b[1;33m)\u001b[0m\u001b[1;33m:\u001b[0m\u001b[1;33m\u001b[0m\u001b[0m\n\u001b[0;32m     47\u001b[0m     \u001b[0mLabVIEW\u001b[0m \u001b[1;33m=\u001b[0m \u001b[0mwin32com\u001b[0m\u001b[1;33m.\u001b[0m\u001b[0mclient\u001b[0m\u001b[1;33m.\u001b[0m\u001b[0mDispatch\u001b[0m\u001b[1;33m(\u001b[0m\u001b[1;34m\"Labview.Application\"\u001b[0m\u001b[1;33m)\u001b[0m\u001b[1;33m\u001b[0m\u001b[0m\n\u001b[1;32m---> 48\u001b[1;33m     \u001b[0mfilepath\u001b[0m \u001b[1;33m=\u001b[0m \u001b[0mmhdpy\u001b[0m\u001b[1;33m.\u001b[0m\u001b[0mdaq\u001b[0m\u001b[1;33m.\u001b[0m\u001b[0mgen_filepath\u001b[0m\u001b[1;33m(\u001b[0m\u001b[0mLabVIEW\u001b[0m \u001b[1;33m,\u001b[0m \u001b[0mexp\u001b[0m\u001b[1;33m.\u001b[0m\u001b[0mName\u001b[0m\u001b[1;33m,\u001b[0m\u001b[1;34m''\u001b[0m\u001b[1;33m,\u001b[0m \u001b[0mDAQmx\u001b[0m \u001b[1;33m=\u001b[0m \u001b[1;32mFalse\u001b[0m\u001b[1;33m,\u001b[0m \u001b[0mLogfile\u001b[0m\u001b[1;33m=\u001b[0m \u001b[1;32mTrue\u001b[0m\u001b[1;33m)\u001b[0m\u001b[1;33m\u001b[0m\u001b[0m\n\u001b[0m\u001b[0;32m     49\u001b[0m     \u001b[0mfolder\u001b[0m \u001b[1;33m=\u001b[0m \u001b[0mos\u001b[0m\u001b[1;33m.\u001b[0m\u001b[0mpath\u001b[0m\u001b[1;33m.\u001b[0m\u001b[0msplit\u001b[0m\u001b[1;33m(\u001b[0m\u001b[0mfilepath\u001b[0m\u001b[1;33m)\u001b[0m\u001b[1;33m[\u001b[0m\u001b[1;36m0\u001b[0m\u001b[1;33m]\u001b[0m\u001b[1;33m\u001b[0m\u001b[0m\n\u001b[0;32m     50\u001b[0m     \u001b[0mfilename\u001b[0m \u001b[1;33m=\u001b[0m \u001b[0mos\u001b[0m\u001b[1;33m.\u001b[0m\u001b[0mpath\u001b[0m\u001b[1;33m.\u001b[0m\u001b[0msplit\u001b[0m\u001b[1;33m(\u001b[0m\u001b[0mfilepath\u001b[0m\u001b[1;33m)\u001b[0m\u001b[1;33m[\u001b[0m\u001b[1;36m1\u001b[0m\u001b[1;33m]\u001b[0m\u001b[1;33m\u001b[0m\u001b[0m\n",
      "\u001b[1;31mRemotingException\u001b[0m: Failed to connect to an IPC Port: The system cannot find the file specified.\r\n \n\r\nServer stack trace: \r\n   at System.Runtime.Remoting.Channels.Ipc.IpcPort.Connect(String portName, Boolean secure, TokenImpersonationLevel impersonationLevel, Int32 timeout)\r\n   at System.Runtime.Remoting.Channels.Ipc.ConnectionCache.GetConnection(String portName, Boolean secure, TokenImpersonationLevel level, Int32 timeout)\r\n   at System.Runtime.Remoting.Channels.Ipc.IpcClientTransportSink.ProcessMessage(IMessage msg, ITransportHeaders requestHeaders, Stream requestStream, ITransportHeaders& responseHeaders, Stream& responseStream)\r\n   at System.Runtime.Remoting.Channels.BinaryClientFormatterSink.SyncProcessMessage(IMessage msg)\r\n\r\nException rethrown at [0]: \r\n   at System.Runtime.Remoting.Proxies.RealProxy.HandleReturnMessage(IMessage reqMsg, IMessage retMsg)\r\n   at System.Runtime.Remoting.Proxies.RealProxy.PrivateInvoke(MessageData& msgData, Int32 type)\r\n   at PrincetonInstruments.LightField.AddIns.Contracts.IExperimentContract.get_Name()"
     ]
    }
   ],
   "source": [
    "fol, fil = get_paths(exp1)\n",
    "exp1.SetValue(ExperimentSettings.FileNameGenerationDirectory,fol)\n",
    "exp1.SetValue(ExperimentSettings.FileNameGenerationBaseFileName, fil)"
   ]
  },
  {
   "cell_type": "code",
   "execution_count": 7,
   "metadata": {},
   "outputs": [],
   "source": [
    "filepath = mhdpy.daq.gen_filepath(LabVIEW , 'Hello','', DAQmx = False, Logfile= True)\n"
   ]
  },
  {
   "cell_type": "code",
   "execution_count": 8,
   "metadata": {},
   "outputs": [
    {
     "data": {
      "text/plain": [
       "'D:\\\\2019-07-08\\\\Logfiles\\\\Hello\\\\Log_Hello_0'"
      ]
     },
     "execution_count": 8,
     "metadata": {},
     "output_type": "execute_result"
    }
   ],
   "source": [
    "filepath"
   ]
  },
  {
   "cell_type": "code",
   "execution_count": null,
   "metadata": {},
   "outputs": [],
   "source": []
  }
 ],
 "metadata": {
  "kernelspec": {
   "display_name": "Python 3",
   "language": "python",
   "name": "python3"
  },
  "language_info": {
   "codemirror_mode": {
    "name": "ipython",
    "version": 3
   },
   "file_extension": ".py",
   "mimetype": "text/x-python",
   "name": "python",
   "nbconvert_exporter": "python",
   "pygments_lexer": "ipython3",
   "version": "3.6.5"
  }
 },
 "nbformat": 4,
 "nbformat_minor": 2
}
